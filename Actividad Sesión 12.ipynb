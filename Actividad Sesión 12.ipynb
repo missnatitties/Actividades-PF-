{
 "cells": [
  {
   "cell_type": "code",
   "execution_count": 2,
   "metadata": {},
   "outputs": [],
   "source": [
    "#Importar\n",
    "import pandas \n",
    "df = pandas.read_csv (r'C:\\Users\\ncordova\\Documents\\Python Fundamentals\\athlete_events.csv')"
   ]
  },
  {
   "cell_type": "code",
   "execution_count": 3,
   "metadata": {},
   "outputs": [
    {
     "name": "stdout",
     "output_type": "stream",
     "text": [
      "El competidor más veterano que ha recibido medalla es:\n",
      "44584    John (Herbert Crawford-) Copley (Williamson-)\n",
      "Name: Name, dtype: object\n"
     ]
    }
   ],
   "source": [
    "#Competidor más veterano que ha recibido medalla (oro, plata o bronce)\n",
    "old = df[df[\"Medal\"].notna()]\n",
    "print(\"El competidor más veterano que ha recibido medalla es:\")\n",
    "print(old.Name[old.Age == old.Age.max()]) # Ganador de medalla de mayor edad"
   ]
  },
  {
   "cell_type": "code",
   "execution_count": 4,
   "metadata": {},
   "outputs": [
    {
     "name": "stdout",
     "output_type": "stream",
     "text": [
      "El competidor más joven que ha recibido medalla de oro es:\n",
      "27207                          Hans Bourquin\n",
      "52010     Donna Elizabeth de Varona (-Pinto)\n",
      "73581                             Fu Mingxia\n",
      "78544           Marjorie Gestring (-Redlick)\n",
      "119277                            Kim Yun-Mi\n",
      "200704         Aileen Muriel Riggin (-Soule)\n",
      "268602                           Klaus Zerta\n",
      "Name: Name, dtype: object\n"
     ]
    }
   ],
   "source": [
    "#Competidor más joven que ha recibido medalla de oro\n",
    "gold = df[df[\"Medal\"]==\"Gold\"]\n",
    "print(\"El competidor más joven que ha recibido medalla de oro es:\")\n",
    "print(gold.Name[gold.Age == gold.Age.min()])"
   ]
  },
  {
   "cell_type": "code",
   "execution_count": 6,
   "metadata": {},
   "outputs": [
    {
     "name": "stdout",
     "output_type": "stream",
     "text": [
      "El competidor más ganador de la historia es:\n",
      "0    Michael Fred Phelps, II\n",
      "Name: Name, dtype: object\n",
      "           ID                     Name Sex   Age  Height  Weight  \\\n",
      "187888  94406  Michael Fred Phelps, II   M  19.0   193.0    91.0   \n",
      "187889  94406  Michael Fred Phelps, II   M  19.0   193.0    91.0   \n",
      "187890  94406  Michael Fred Phelps, II   M  19.0   193.0    91.0   \n",
      "187891  94406  Michael Fred Phelps, II   M  19.0   193.0    91.0   \n",
      "187892  94406  Michael Fred Phelps, II   M  19.0   193.0    91.0   \n",
      "187893  94406  Michael Fred Phelps, II   M  19.0   193.0    91.0   \n",
      "187894  94406  Michael Fred Phelps, II   M  19.0   193.0    91.0   \n",
      "187895  94406  Michael Fred Phelps, II   M  19.0   193.0    91.0   \n",
      "187896  94406  Michael Fred Phelps, II   M  23.0   193.0    91.0   \n",
      "187897  94406  Michael Fred Phelps, II   M  23.0   193.0    91.0   \n",
      "187898  94406  Michael Fred Phelps, II   M  23.0   193.0    91.0   \n",
      "187899  94406  Michael Fred Phelps, II   M  23.0   193.0    91.0   \n",
      "187900  94406  Michael Fred Phelps, II   M  23.0   193.0    91.0   \n",
      "187901  94406  Michael Fred Phelps, II   M  23.0   193.0    91.0   \n",
      "187902  94406  Michael Fred Phelps, II   M  23.0   193.0    91.0   \n",
      "187903  94406  Michael Fred Phelps, II   M  23.0   193.0    91.0   \n",
      "187904  94406  Michael Fred Phelps, II   M  27.0   193.0    91.0   \n",
      "187905  94406  Michael Fred Phelps, II   M  27.0   193.0    91.0   \n",
      "187906  94406  Michael Fred Phelps, II   M  27.0   193.0    91.0   \n",
      "187907  94406  Michael Fred Phelps, II   M  27.0   193.0    91.0   \n",
      "187908  94406  Michael Fred Phelps, II   M  27.0   193.0    91.0   \n",
      "187910  94406  Michael Fred Phelps, II   M  27.0   193.0    91.0   \n",
      "187911  94406  Michael Fred Phelps, II   M  31.0   193.0    91.0   \n",
      "187912  94406  Michael Fred Phelps, II   M  31.0   193.0    91.0   \n",
      "187913  94406  Michael Fred Phelps, II   M  31.0   193.0    91.0   \n",
      "187914  94406  Michael Fred Phelps, II   M  31.0   193.0    91.0   \n",
      "187915  94406  Michael Fred Phelps, II   M  31.0   193.0    91.0   \n",
      "187916  94406  Michael Fred Phelps, II   M  31.0   193.0    91.0   \n",
      "\n",
      "                 Team  NOC        Games  Year  Season            City  \\\n",
      "187888  United States  USA  2004 Summer  2004  Summer          Athina   \n",
      "187889  United States  USA  2004 Summer  2004  Summer          Athina   \n",
      "187890  United States  USA  2004 Summer  2004  Summer          Athina   \n",
      "187891  United States  USA  2004 Summer  2004  Summer          Athina   \n",
      "187892  United States  USA  2004 Summer  2004  Summer          Athina   \n",
      "187893  United States  USA  2004 Summer  2004  Summer          Athina   \n",
      "187894  United States  USA  2004 Summer  2004  Summer          Athina   \n",
      "187895  United States  USA  2004 Summer  2004  Summer          Athina   \n",
      "187896  United States  USA  2008 Summer  2008  Summer         Beijing   \n",
      "187897  United States  USA  2008 Summer  2008  Summer         Beijing   \n",
      "187898  United States  USA  2008 Summer  2008  Summer         Beijing   \n",
      "187899  United States  USA  2008 Summer  2008  Summer         Beijing   \n",
      "187900  United States  USA  2008 Summer  2008  Summer         Beijing   \n",
      "187901  United States  USA  2008 Summer  2008  Summer         Beijing   \n",
      "187902  United States  USA  2008 Summer  2008  Summer         Beijing   \n",
      "187903  United States  USA  2008 Summer  2008  Summer         Beijing   \n",
      "187904  United States  USA  2012 Summer  2012  Summer          London   \n",
      "187905  United States  USA  2012 Summer  2012  Summer          London   \n",
      "187906  United States  USA  2012 Summer  2012  Summer          London   \n",
      "187907  United States  USA  2012 Summer  2012  Summer          London   \n",
      "187908  United States  USA  2012 Summer  2012  Summer          London   \n",
      "187910  United States  USA  2012 Summer  2012  Summer          London   \n",
      "187911  United States  USA  2016 Summer  2016  Summer  Rio de Janeiro   \n",
      "187912  United States  USA  2016 Summer  2016  Summer  Rio de Janeiro   \n",
      "187913  United States  USA  2016 Summer  2016  Summer  Rio de Janeiro   \n",
      "187914  United States  USA  2016 Summer  2016  Summer  Rio de Janeiro   \n",
      "187915  United States  USA  2016 Summer  2016  Summer  Rio de Janeiro   \n",
      "187916  United States  USA  2016 Summer  2016  Summer  Rio de Janeiro   \n",
      "\n",
      "           Sport                                          Event   Medal  \n",
      "187888  Swimming            Swimming Men's 200 metres Freestyle  Bronze  \n",
      "187889  Swimming  Swimming Men's 4 x 100 metres Freestyle Relay  Bronze  \n",
      "187890  Swimming  Swimming Men's 4 x 200 metres Freestyle Relay    Gold  \n",
      "187891  Swimming            Swimming Men's 100 metres Butterfly    Gold  \n",
      "187892  Swimming            Swimming Men's 200 metres Butterfly    Gold  \n",
      "187893  Swimming    Swimming Men's 200 metres Individual Medley    Gold  \n",
      "187894  Swimming    Swimming Men's 400 metres Individual Medley    Gold  \n",
      "187895  Swimming     Swimming Men's 4 x 100 metres Medley Relay    Gold  \n",
      "187896  Swimming            Swimming Men's 200 metres Freestyle    Gold  \n",
      "187897  Swimming  Swimming Men's 4 x 100 metres Freestyle Relay    Gold  \n",
      "187898  Swimming  Swimming Men's 4 x 200 metres Freestyle Relay    Gold  \n",
      "187899  Swimming            Swimming Men's 100 metres Butterfly    Gold  \n",
      "187900  Swimming            Swimming Men's 200 metres Butterfly    Gold  \n",
      "187901  Swimming    Swimming Men's 200 metres Individual Medley    Gold  \n",
      "187902  Swimming    Swimming Men's 400 metres Individual Medley    Gold  \n",
      "187903  Swimming     Swimming Men's 4 x 100 metres Medley Relay    Gold  \n",
      "187904  Swimming  Swimming Men's 4 x 100 metres Freestyle Relay  Silver  \n",
      "187905  Swimming  Swimming Men's 4 x 200 metres Freestyle Relay    Gold  \n",
      "187906  Swimming            Swimming Men's 100 metres Butterfly    Gold  \n",
      "187907  Swimming            Swimming Men's 200 metres Butterfly  Silver  \n",
      "187908  Swimming    Swimming Men's 200 metres Individual Medley    Gold  \n",
      "187910  Swimming     Swimming Men's 4 x 100 metres Medley Relay    Gold  \n",
      "187911  Swimming  Swimming Men's 4 x 100 metres Freestyle Relay    Gold  \n",
      "187912  Swimming  Swimming Men's 4 x 200 metres Freestyle Relay    Gold  \n",
      "187913  Swimming            Swimming Men's 100 metres Butterfly  Silver  \n",
      "187914  Swimming            Swimming Men's 200 metres Butterfly    Gold  \n",
      "187915  Swimming    Swimming Men's 200 metres Individual Medley    Gold  \n",
      "187916  Swimming     Swimming Men's 4 x 100 metres Medley Relay    Gold  \n"
     ]
    }
   ],
   "source": [
    "#Encuentra al competidor más ganador de la historia y crea un csv con toda su información.\n",
    "old = df[df[\"Medal\"].notna()]\n",
    "print(\"El competidor más ganador de la historia es:\")\n",
    "print(old.Name.mode())\n",
    "best = old[old[\"Name\"]==\"Michael Fred Phelps, II\"]\n",
    "best.to_csv(\"got.csv\", header=True, index=True)\n",
    "print(best)\n"
   ]
  }
 ],
 "metadata": {
  "kernelspec": {
   "display_name": "Python 3.9.12 ('base')",
   "language": "python",
   "name": "python3"
  },
  "language_info": {
   "codemirror_mode": {
    "name": "ipython",
    "version": 3
   },
   "file_extension": ".py",
   "mimetype": "text/x-python",
   "name": "python",
   "nbconvert_exporter": "python",
   "pygments_lexer": "ipython3",
   "version": "3.9.12"
  },
  "orig_nbformat": 4,
  "vscode": {
   "interpreter": {
    "hash": "e8a7e19183888612c7a8c2abe5f70eae990e5dd0696774dc201bbac8d01724d2"
   }
  }
 },
 "nbformat": 4,
 "nbformat_minor": 2
}
