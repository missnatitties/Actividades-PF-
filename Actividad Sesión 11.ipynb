{
 "cells": [
  {
   "cell_type": "code",
   "execution_count": 7,
   "metadata": {},
   "outputs": [
    {
     "name": "stdout",
     "output_type": "stream",
     "text": [
      "Debido a que la compra supera los $1000 MXN, se le aplicará un 10% de descuento adicional. Su ahorro será de: $ 120.0 MXN\n",
      "Monto total (considerando descuentos aplicables a su compra): $ 1080.0 MXN\n"
     ]
    }
   ],
   "source": [
    "#Crear un programa que permita al usuario ingresar los montos de las compras de un cliente \n",
    "#(se desconoce la cantidad de datos que se cargarán, que pueden cambiar en cada ejecución), \n",
    "#cortando el ingreso de datos cuando el usuario ingresa el monto 0.\n",
    "#Si ingresa una cantidad negativa, no debe procesarse y \n",
    "# se le debe solicitar que ingrese una nueva cantidad. \n",
    "# Al finalizar, informar el total a pagar teniendo en cuenta que, \n",
    "# si las ventas superan el total de $1000, se debe aplicar un 10% de descuento.\n",
    "monto_total = 0\n",
    "monto = float(input(\"Generador de ticket. Ingresa el monto de venta del artículo: \"))\n",
    "while monto != 0:\n",
    "    if monto < 0:\n",
    "        print(\"Monto inválido. Inténtalo nuevamente\")\n",
    "    else:\n",
    "        monto_total = monto_total + monto\n",
    "    monto = float(input(\"Ingresa el coste del sig. artículo: \"))\n",
    "if monto_total > 1000:\n",
    "    print(\"Debido a que la compra supera los $1000 MXN, se le aplicará un 10% de descuento adicional. Su ahorro será de: $\", monto_total*0.1, \"MXN\")\n",
    "    monto_total = monto_total*0.9\n",
    "print(\"Monto total (considerando descuentos aplicables a su compra): $\", monto_total, \"MXN\")"
   ]
  }
 ],
 "metadata": {
  "kernelspec": {
   "display_name": "Python 3.9.12 ('base')",
   "language": "python",
   "name": "python3"
  },
  "language_info": {
   "codemirror_mode": {
    "name": "ipython",
    "version": 3
   },
   "file_extension": ".py",
   "mimetype": "text/x-python",
   "name": "python",
   "nbconvert_exporter": "python",
   "pygments_lexer": "ipython3",
   "version": "3.9.12"
  },
  "orig_nbformat": 4,
  "vscode": {
   "interpreter": {
    "hash": "e8a7e19183888612c7a8c2abe5f70eae990e5dd0696774dc201bbac8d01724d2"
   }
  }
 },
 "nbformat": 4,
 "nbformat_minor": 2
}
