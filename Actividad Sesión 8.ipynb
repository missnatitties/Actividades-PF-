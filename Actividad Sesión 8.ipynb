{
 "cells": [
  {
   "cell_type": "code",
   "execution_count": 3,
   "id": "235fe003",
   "metadata": {},
   "outputs": [
    {
     "data": {
      "text/plain": [
       "12.0"
      ]
     },
     "execution_count": 3,
     "metadata": {},
     "output_type": "execute_result"
    }
   ],
   "source": [
    "import numpy as np\n",
    "#1.-El doble de mi edad tiene 24 años, ¿cuántos años tengo? (x=?)\n",
    "y=24\n",
    "x=0.5*y\n",
    "x"
   ]
  },
  {
   "cell_type": "code",
   "execution_count": 4,
   "id": "a009cea4",
   "metadata": {},
   "outputs": [
    {
     "data": {
      "text/plain": [
       "63"
      ]
     },
     "execution_count": 4,
     "metadata": {},
     "output_type": "execute_result"
    }
   ],
   "source": [
    "#2.- A un tercio de la edad de mi hermana le disminuyo 15 años. Tengo 6 años. ¿Qué edad tiene? (Escribir la ecuación correspondiente, despejar y calcular x de manera manual)\n",
    "  #x= edad de la hermana, y= mi edad, y=1/3x-15\n",
    "  #y+15=1/3x \n",
    "  #x=(y+15)*3\n",
    "y=6\n",
    "x=(y+15)*3\n",
    "x"
   ]
  },
  {
   "cell_type": "code",
   "execution_count": 5,
   "id": "5478f84c",
   "metadata": {},
   "outputs": [
    {
     "name": "stdout",
     "output_type": "stream",
     "text": [
      "Mi hermana es mayor\n"
     ]
    }
   ],
   "source": [
    "#3.-Determina quién es más grande utilizando if y else.\n",
    "if x > y:\n",
    "  print(\"Mi hermana es mayor\")\n",
    "else:\n",
    "  print(\"Yo soy mayor\") "
   ]
  }
 ],
 "metadata": {
  "kernelspec": {
   "display_name": "Python 3 (ipykernel)",
   "language": "python",
   "name": "python3"
  },
  "language_info": {
   "codemirror_mode": {
    "name": "ipython",
    "version": 3
   },
   "file_extension": ".py",
   "mimetype": "text/x-python",
   "name": "python",
   "nbconvert_exporter": "python",
   "pygments_lexer": "ipython3",
   "version": "3.9.12"
  }
 },
 "nbformat": 4,
 "nbformat_minor": 5
}
