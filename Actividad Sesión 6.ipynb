{
 "cells": [
  {
   "cell_type": "code",
   "execution_count": 4,
   "id": "cd8ef8a1",
   "metadata": {},
   "outputs": [],
   "source": [
    "import numpy"
   ]
  },
  {
   "cell_type": "code",
   "execution_count": 7,
   "id": "871c45e5",
   "metadata": {},
   "outputs": [],
   "source": [
    "#1.- Crear una matriz 3x3 con valores de 0 a 8\n",
    "mat_ex1 = numpy.reshape(numpy.array(range(0,9)),(3,3))"
   ]
  },
  {
   "cell_type": "code",
   "execution_count": 8,
   "id": "aec75b49",
   "metadata": {},
   "outputs": [
    {
     "data": {
      "text/plain": [
       "array([[0, 1, 2],\n",
       "       [3, 4, 5],\n",
       "       [6, 7, 8]])"
      ]
     },
     "execution_count": 8,
     "metadata": {},
     "output_type": "execute_result"
    }
   ],
   "source": [
    "mat_ex1"
   ]
  },
  {
   "cell_type": "code",
   "execution_count": 9,
   "id": "c2752cf5",
   "metadata": {},
   "outputs": [],
   "source": [
    "#2.- Crear una matriz identidad de 6x6\n",
    "mat_ex2 = numpy.identity(6)"
   ]
  },
  {
   "cell_type": "code",
   "execution_count": 10,
   "id": "755bec6e",
   "metadata": {},
   "outputs": [
    {
     "data": {
      "text/plain": [
       "array([[1., 0., 0., 0., 0., 0.],\n",
       "       [0., 1., 0., 0., 0., 0.],\n",
       "       [0., 0., 1., 0., 0., 0.],\n",
       "       [0., 0., 0., 1., 0., 0.],\n",
       "       [0., 0., 0., 0., 1., 0.],\n",
       "       [0., 0., 0., 0., 0., 1.]])"
      ]
     },
     "execution_count": 10,
     "metadata": {},
     "output_type": "execute_result"
    }
   ],
   "source": [
    "mat_ex2"
   ]
  },
  {
   "cell_type": "code",
   "execution_count": null,
   "id": "c0610e82",
   "metadata": {},
   "outputs": [],
   "source": []
  }
 ],
 "metadata": {
  "kernelspec": {
   "display_name": "Python 3 (ipykernel)",
   "language": "python",
   "name": "python3"
  },
  "language_info": {
   "codemirror_mode": {
    "name": "ipython",
    "version": 3
   },
   "file_extension": ".py",
   "mimetype": "text/x-python",
   "name": "python",
   "nbconvert_exporter": "python",
   "pygments_lexer": "ipython3",
   "version": "3.9.12"
  }
 },
 "nbformat": 4,
 "nbformat_minor": 5
}
