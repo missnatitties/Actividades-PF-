{
 "cells": [
  {
   "cell_type": "code",
   "execution_count": 4,
   "metadata": {},
   "outputs": [
    {
     "name": "stdout",
     "output_type": "stream",
     "text": [
      "x1 es igual a:  (-0.8333333333333334+0.5527707983925666j)\n",
      "x2 es igual a:  (-0.8333333333333334-0.5527707983925666j)\n"
     ]
    }
   ],
   "source": [
    "#Crea una función en la cual recibas como argumentos los parámetros de una función cuadrática, \n",
    "# y te regrese x1 y x2.\n",
    "\n",
    "#Creando función\n",
    "from cmath import sqrt\n",
    "def quadratic_roots(a,b,c):\n",
    "    x1 = (-b + sqrt(b*b-4*a*c)) / (2*a)\n",
    "    x2 = (-b - sqrt(b*b-4*a*c)) / (2*a)\n",
    "    print(\"x1 es igual a: \", x1)\n",
    "    print(\"x2 es igual a: \", x2)\n",
    "#Ingreso de valores\n",
    "a = float(input('''Tu función cuadrática tiene la forma ax^2+bx+c.\n",
    "Para saber las raíces de dicha función, ingresa el parámetro a: '''))\n",
    "b = float(input('''Tu función cuadrática tiene la forma ax^2+bx+c.\n",
    "Ahora, ingresa el parámetro b: '''))\n",
    "c = float(input('''Tu función cuadrática tiene la forma ax^2+bx+c.\n",
    "Finalmente, ingresa el parámetro c: '''))\n",
    "#Output \n",
    "quadratic_roots(a,b,c)\n"
   ]
  }
 ],
 "metadata": {
  "kernelspec": {
   "display_name": "Python 3.9.12 ('base')",
   "language": "python",
   "name": "python3"
  },
  "language_info": {
   "codemirror_mode": {
    "name": "ipython",
    "version": 3
   },
   "file_extension": ".py",
   "mimetype": "text/x-python",
   "name": "python",
   "nbconvert_exporter": "python",
   "pygments_lexer": "ipython3",
   "version": "3.9.12"
  },
  "orig_nbformat": 4,
  "vscode": {
   "interpreter": {
    "hash": "e8a7e19183888612c7a8c2abe5f70eae990e5dd0696774dc201bbac8d01724d2"
   }
  }
 },
 "nbformat": 4,
 "nbformat_minor": 2
}
