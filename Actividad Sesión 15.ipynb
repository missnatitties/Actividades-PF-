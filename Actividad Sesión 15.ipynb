{
 "cells": [
  {
   "cell_type": "code",
   "execution_count": 2,
   "metadata": {},
   "outputs": [],
   "source": [
    "#Obtén los valores estadísticos de los salarios. (media, mediana, desviación estándar, etc)\n",
    "import pandas as pd\n",
    "dictionary = {\n",
    "    \"Nombre\":[\"Ringo\", \"John\", \"Paul\", \"George\", \"Yoko\"],\n",
    "    \"Edad\":[45,34,42,38,47],\n",
    "    \"Salario\":[12000,14000,13000,11000,10000],\n",
    "    \"Genero\":[\"M\",\"M\",\"M\",\"M\",\"M\"]\n",
    "}\n",
    "df = pd.DataFrame(dictionary)"
   ]
  },
  {
   "cell_type": "code",
   "execution_count": 6,
   "metadata": {},
   "outputs": [
    {
     "data": {
      "text/plain": [
       "count        5.00000\n",
       "mean     12000.00000\n",
       "std       1581.13883\n",
       "min      10000.00000\n",
       "25%      11000.00000\n",
       "50%      12000.00000\n",
       "75%      13000.00000\n",
       "max      14000.00000\n",
       "Name: Salario, dtype: float64"
      ]
     },
     "execution_count": 6,
     "metadata": {},
     "output_type": "execute_result"
    }
   ],
   "source": [
    "df[\"Salario\"].describe()"
   ]
  },
  {
   "cell_type": "code",
   "execution_count": 7,
   "metadata": {},
   "outputs": [
    {
     "name": "stdout",
     "output_type": "stream",
     "text": [
      "La mediana es: 12000.0\n"
     ]
    }
   ],
   "source": [
    "print(\"La mediana es:\", df[\"Salario\"].median())"
   ]
  }
 ],
 "metadata": {
  "kernelspec": {
   "display_name": "Python 3.9.12 ('base')",
   "language": "python",
   "name": "python3"
  },
  "language_info": {
   "codemirror_mode": {
    "name": "ipython",
    "version": 3
   },
   "file_extension": ".py",
   "mimetype": "text/x-python",
   "name": "python",
   "nbconvert_exporter": "python",
   "pygments_lexer": "ipython3",
   "version": "3.9.12"
  },
  "orig_nbformat": 4,
  "vscode": {
   "interpreter": {
    "hash": "e8a7e19183888612c7a8c2abe5f70eae990e5dd0696774dc201bbac8d01724d2"
   }
  }
 },
 "nbformat": 4,
 "nbformat_minor": 2
}
