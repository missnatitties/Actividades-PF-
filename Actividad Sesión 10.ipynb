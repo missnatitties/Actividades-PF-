{
 "cells": [
  {
   "cell_type": "code",
   "execution_count": 9,
   "id": "9781944e",
   "metadata": {},
   "outputs": [
    {
     "name": "stdout",
     "output_type": "stream",
     "text": [
      "Ingresa tu edad (en dígitos): 122\n",
      "Intenta de nuevo; el número escrito no es factible\n",
      "Escribe correctamente tu edad: 12\n",
      "Eres menor de edad\n"
     ]
    }
   ],
   "source": [
    "edad=int(input(\"Ingresa tu edad (en dígitos): \"))\n",
    "while edad <0 or edad>120:\n",
    "    print(\"Intenta de nuevo; el número escrito no es factible\")\n",
    "    edad = int(input(\"Escribe correctamente tu edad: \"))\n",
    "if edad >= 18: print(\"Eres mayor de edad\")\n",
    "elif edad < 18: print(\"Eres menor de edad\")"
   ]
  },
  {
   "cell_type": "code",
   "execution_count": null,
   "id": "2961af4c",
   "metadata": {},
   "outputs": [],
   "source": []
  }
 ],
 "metadata": {
  "kernelspec": {
   "display_name": "Python 3 (ipykernel)",
   "language": "python",
   "name": "python3"
  },
  "language_info": {
   "codemirror_mode": {
    "name": "ipython",
    "version": 3
   },
   "file_extension": ".py",
   "mimetype": "text/x-python",
   "name": "python",
   "nbconvert_exporter": "python",
   "pygments_lexer": "ipython3",
   "version": "3.9.12"
  }
 },
 "nbformat": 4,
 "nbformat_minor": 5
}
