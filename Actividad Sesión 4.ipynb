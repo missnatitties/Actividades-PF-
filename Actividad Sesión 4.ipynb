{
 "cells": [
  {
   "cell_type": "code",
   "execution_count": 3,
   "id": "ca94d494",
   "metadata": {
    "scrolled": true
   },
   "outputs": [],
   "source": [
    "#Tuple\n",
    "tuple_ex = (2,\"Ana\", 4.66, \"Jorge\", True)"
   ]
  },
  {
   "cell_type": "code",
   "execution_count": 4,
   "id": "885fe0ef",
   "metadata": {},
   "outputs": [],
   "source": [
    "#Tuple to list\n",
    "tuple_transformed = list(tuple_ex)"
   ]
  },
  {
   "cell_type": "code",
   "execution_count": 12,
   "id": "1fef91c7",
   "metadata": {},
   "outputs": [],
   "source": [
    "#Dictionary - Keys: 1 to 5; Elements: from list\n",
    "keys = [1,2,3,4,5]\n",
    "dictionary = {i:j for i, j in zip(keys, tuple_transformed)}"
   ]
  },
  {
   "cell_type": "code",
   "execution_count": 13,
   "id": "9397540c",
   "metadata": {},
   "outputs": [
    {
     "name": "stdout",
     "output_type": "stream",
     "text": [
      "{1: 2, 2: 'Ana', 3: 4.66, 4: 'Jorge', 5: True}\n"
     ]
    }
   ],
   "source": [
    "print(dictionary)"
   ]
  },
  {
   "cell_type": "code",
   "execution_count": null,
   "id": "0459e06d",
   "metadata": {},
   "outputs": [],
   "source": []
  }
 ],
 "metadata": {
  "kernelspec": {
   "display_name": "Python 3 (ipykernel)",
   "language": "python",
   "name": "python3"
  },
  "language_info": {
   "codemirror_mode": {
    "name": "ipython",
    "version": 3
   },
   "file_extension": ".py",
   "mimetype": "text/x-python",
   "name": "python",
   "nbconvert_exporter": "python",
   "pygments_lexer": "ipython3",
   "version": "3.9.12"
  }
 },
 "nbformat": 4,
 "nbformat_minor": 5
}
