{
 "cells": [
  {
   "cell_type": "code",
   "execution_count": 8,
   "metadata": {},
   "outputs": [],
   "source": [
    "#BÁSICA\n",
    "#Cada compañero dirá un número. Los guardarás en un diccionario, junto con el nombre de tu pareja.\n",
    "dictionary = {} #Diccionario\n",
    "team_mates = int(input(\"Cuántos compañeros participan (ingresa el dígito): \")) #Cuántos inputs tendrás\n",
    "for i in range(team_mates):\n",
    "    name = input(\"Nombre de tu compañero: {0}: \".format(i+1)) #Ingreso de nombre\n",
    "    number = int(input(\"Número que elige {0}: \".format(i+1))) #Ingreso de números\n",
    "    dictionary[name] = number #Adjuntas a cada nombre registrado el número elegido dentro del diccionario\n"
   ]
  },
  {
   "cell_type": "code",
   "execution_count": 11,
   "metadata": {},
   "outputs": [
    {
     "name": "stdout",
     "output_type": "stream",
     "text": [
      "Se muestran los datos registrados dentro del diccionario\n",
      "{'Ana': 5, 'Juan': 236, 'Carlos': 9}\n"
     ]
    }
   ],
   "source": [
    "#Luego imprimirán los valores del diccionario (nombre de la persona y número que dijo) (Usando un bucle for)\n",
    "print(\"Se muestran los datos registrados dentro del diccionario\")\n",
    "print(dictionary)\n"
   ]
  },
  {
   "cell_type": "code",
   "execution_count": 12,
   "metadata": {},
   "outputs": [
    {
     "name": "stdout",
     "output_type": "stream",
     "text": [
      "Se imprimen los valores extremos registeados por los compañeros\n",
      "Máximo es:\n",
      "236\n",
      "Mínimo es:\n",
      "5\n"
     ]
    }
   ],
   "source": [
    " #Al final imprimirán dos mensajes, mostrando el número más grande, y el número más pequeño que dijeron, sin el nombre del socio, sólo el número.\n",
    "print(\"Se imprimen los valores extremos registeados por los compañeros\")\n",
    "print(\"Máximo es:\")\n",
    "print(max(dictionary.values()))\n",
    "print(\"Mínimo es:\")\n",
    "print(min(dictionary.values()))"
   ]
  }
 ],
 "metadata": {
  "kernelspec": {
   "display_name": "Python 3.9.12 ('base')",
   "language": "python",
   "name": "python3"
  },
  "language_info": {
   "codemirror_mode": {
    "name": "ipython",
    "version": 3
   },
   "file_extension": ".py",
   "mimetype": "text/x-python",
   "name": "python",
   "nbconvert_exporter": "python",
   "pygments_lexer": "ipython3",
   "version": "3.9.12"
  },
  "orig_nbformat": 4,
  "vscode": {
   "interpreter": {
    "hash": "e8a7e19183888612c7a8c2abe5f70eae990e5dd0696774dc201bbac8d01724d2"
   }
  }
 },
 "nbformat": 4,
 "nbformat_minor": 2
}
