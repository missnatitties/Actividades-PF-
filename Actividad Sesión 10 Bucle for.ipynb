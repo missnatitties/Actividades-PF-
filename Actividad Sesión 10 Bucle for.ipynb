{
 "cells": [
  {
   "cell_type": "code",
   "execution_count": 1,
   "metadata": {},
   "outputs": [],
   "source": [
    "#Básica\n",
    "#Cada compañero dirá un número. Los guardarás en un diccionario, junto con el nombre de tu pareja.\n",
    "dictionary = {} #Diccionario\n",
    "team_mates = int(input(\"Cuántos compañeros participan (ingresa el dígito): \")) #Cuántos inputs tendrás\n",
    "for i in range(team_mates):\n",
    "    name = input(\"Nombre de tu compañero: {0}: \".format(i+1)) #Ingreso de nombre\n",
    "    number = int(input(\"Número que elige {0}: \".format(i+1))) #Ingreso de números\n",
    "    dictionary[name] = number #Adjuntas a cada nombre registrado el número elegido dentro del diccionario\n",
    "    \n",
    "#Luego imprimirán los valores del diccionario (nombre de la persona y número que dijo) (Usando un bucle for)\n",
    " #Al final imprimirán dos mensajes, mostrando el número más grande, y el número más pequeño que dijeron, sin el nombre del socio, sólo el número.\n",
    "\n",
    "#Avanzada\n",
    "#Asigna un número aleatorio a tu compañero. Los guardarás en un diccionario, junto con el nombre de tu pareja.\n",
    " #Luego imprimirán los valores del diccionario (nombre de la persona y número que dijo) (Usando un bucle for)\n",
    " #Al final imprimirán dos mensajes, mostrando el número más grande, y el número más pequeño que dijeron, sin el nombre del socio, sólo el número."
   ]
  }
 ],
 "metadata": {
  "kernelspec": {
   "display_name": "Python 3.9.12 ('base')",
   "language": "python",
   "name": "python3"
  },
  "language_info": {
   "codemirror_mode": {
    "name": "ipython",
    "version": 3
   },
   "file_extension": ".py",
   "mimetype": "text/x-python",
   "name": "python",
   "nbconvert_exporter": "python",
   "pygments_lexer": "ipython3",
   "version": "3.9.12"
  },
  "orig_nbformat": 4,
  "vscode": {
   "interpreter": {
    "hash": "e8a7e19183888612c7a8c2abe5f70eae990e5dd0696774dc201bbac8d01724d2"
   }
  }
 },
 "nbformat": 4,
 "nbformat_minor": 2
}
